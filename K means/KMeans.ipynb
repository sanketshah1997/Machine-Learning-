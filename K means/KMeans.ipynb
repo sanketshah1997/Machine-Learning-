{
 "cells": [
  {
   "cell_type": "code",
   "execution_count": 1,
   "metadata": {},
   "outputs": [],
   "source": [
    "import pandas as pd\n",
    "X =pd.DataFrame([\n",
    "    [5.9,3.2],\n",
    "    [4.6,2.9],\n",
    "    [6.2,2.8],\n",
    "    [4.7,3.2],\n",
    "    [5.5,4.2],\n",
    "    [5.0,3.0],\n",
    "    [4.9,3.1],\n",
    "    [5.1,3.8],\n",
    "    [6.0,3.0]\n",
    "])"
   ]
  },
  {
   "cell_type": "code",
   "execution_count": 13,
   "metadata": {},
   "outputs": [
    {
     "data": {
      "image/png": "[encoded data removed]",
      "text/plain": [
       "<Figure size 432x288 with 1 Axes>"
      ]
     },
     "metadata": {},
     "output_type": "display_data"
    }
   ],
   "source": [
    "import matplotlib.pyplot as plt\n",
    "plt.scatter(X[0], X[1], label= \"stars\",marker=\"*\",color= \"black\", s=40) \n",
    "plt.scatter(6.2, 3.2, c='red',s=60)\n",
    "plt.scatter(6.6,3.7,c='green',s=60)\n",
    "plt.scatter(6.5, 3.0, c='blue',s=60)\n",
    "plt.xlabel('x - axis') \n",
    "plt.ylabel('y - axis') \n",
    " \n",
    "plt.title('Points on Plane!') \n",
    "  \n",
    "# function to show the plot \n",
    "plt.show() "
   ]
  },
  {
   "cell_type": "code",
   "execution_count": 9,
   "metadata": {},
   "outputs": [],
   "source": [
    "mean1 = [6.2,3.2]\n",
    "mean2 = [6.6,3.7]\n",
    "mean3 = [6.5,3.0]\n",
    "X['cluster'] = 0"
   ]
  },
  {
   "cell_type": "code",
   "execution_count": 10,
   "metadata": {},
   "outputs": [
    {
     "data": {
      "text/html": [
       "<div>\n",
       "<style scoped>\n",
       "    .dataframe tbody tr th:only-of-type {\n",
       "        vertical-align: middle;\n",
       "    }\n",
       "\n",
       "    .dataframe tbody tr th {\n",
       "        vertical-align: top;\n",
       "    }\n",
       "\n",
       "    .dataframe thead th {\n",
       "        text-align: right;\n",
       "    }\n",
       "</style>\n",
       "<table border=\"1\" class=\"dataframe\">\n",
       "  <thead>\n",
       "    <tr style=\"text-align: right;\">\n",
       "      <th></th>\n",
       "      <th>0</th>\n",
       "      <th>1</th>\n",
       "    </tr>\n",
       "  </thead>\n",
       "  <tbody>\n",
       "    <tr>\n",
       "      <th>0</th>\n",
       "      <td>5.9</td>\n",
       "      <td>3.2</td>\n",
       "    </tr>\n",
       "    <tr>\n",
       "      <th>1</th>\n",
       "      <td>4.6</td>\n",
       "      <td>2.9</td>\n",
       "    </tr>\n",
       "    <tr>\n",
       "      <th>2</th>\n",
       "      <td>6.2</td>\n",
       "      <td>2.8</td>\n",
       "    </tr>\n",
       "    <tr>\n",
       "      <th>3</th>\n",
       "      <td>4.7</td>\n",
       "      <td>3.2</td>\n",
       "    </tr>\n",
       "    <tr>\n",
       "      <th>4</th>\n",
       "      <td>5.5</td>\n",
       "      <td>4.2</td>\n",
       "    </tr>\n",
       "    <tr>\n",
       "      <th>5</th>\n",
       "      <td>5.0</td>\n",
       "      <td>3.0</td>\n",
       "    </tr>\n",
       "    <tr>\n",
       "      <th>6</th>\n",
       "      <td>4.9</td>\n",
       "      <td>3.1</td>\n",
       "    </tr>\n",
       "    <tr>\n",
       "      <th>7</th>\n",
       "      <td>5.1</td>\n",
       "      <td>3.8</td>\n",
       "    </tr>\n",
       "    <tr>\n",
       "      <th>8</th>\n",
       "      <td>6.0</td>\n",
       "      <td>3.0</td>\n",
       "    </tr>\n",
       "  </tbody>\n",
       "</table>\n",
       "</div>"
      ],
      "text/plain": [
       "     0    1\n",
       "0  5.9  3.2\n",
       "1  4.6  2.9\n",
       "2  6.2  2.8\n",
       "3  4.7  3.2\n",
       "4  5.5  4.2\n",
       "5  5.0  3.0\n",
       "6  4.9  3.1\n",
       "7  5.1  3.8\n",
       "8  6.0  3.0"
      ]
     },
     "execution_count": 10,
     "metadata": {},
     "output_type": "execute_result"
    }
   ],
   "source": [
    "X.iloc[:,0:2]"
   ]
  },
  {
   "cell_type": "code",
   "execution_count": 11,
   "metadata": {},
   "outputs": [
    {
     "name": "stdout",
     "output_type": "stream",
     "text": [
      "   mean1_after_first  mean2_after_second  third_mean_after_conv  iterations\n",
      "x               5.17                 5.3                   6.03           2\n",
      "y               3.17                 4.0                   3.00           2\n"
     ]
    }
   ],
   "source": [
    "import numpy as np\n",
    "from scipy.spatial import distance\n",
    "res = pd.DataFrame()\n",
    "y = str(list(X['cluster']))\n",
    "#print(y)\n",
    "i = 0\n",
    "while(True):\n",
    "    X['dis_from_m1'] =  np.sqrt((X.loc[:,0]-mean1[0])**2 + (X.loc[:,1]-mean1[1])**2) \n",
    "    \n",
    "    X['dis_from_m2'] =  np.sqrt((X.loc[:,0]-mean2[0])**2 + (X.loc[:,1]-mean2[1])**2) \n",
    "    \n",
    "    X['dis_from_m3'] =  np.sqrt((X.loc[:,0]-mean3[0])**2 + (X.loc[:,1]-mean3[1])**2) \n",
    "    \n",
    "    X['min_dis'] = np.amin(X.loc[:,['dis_from_m1','dis_from_m2','dis_from_m3']], axis=1) \n",
    "    \n",
    "    label1_after = X['min_dis'] == X['dis_from_m1']\n",
    "    \n",
    "    label2_after = X['min_dis'] == X['dis_from_m2']\n",
    "    \n",
    "    label3_after = X['min_dis'] == X['dis_from_m3']\n",
    "    \n",
    "    X.at[label2_after,'cluster'] = 2\n",
    "    \n",
    "    X.at[label3_after,'cluster'] = 3\n",
    "    \n",
    "    X.at[label1_after,'cluster'] = 1\n",
    "    \n",
    "    if(i==1):\n",
    "        res['mean1_after_first'] = round(mean1,2)\n",
    "    if(i==2):\n",
    "        res['mean2_after_second'] = round(mean2,2)\n",
    "        \n",
    "    mean1 = np.mean(X.loc[X['cluster']==1,[0,1]],axis=0)\n",
    "    \n",
    "    mean2 = np.mean(X.loc[X['cluster']==2,[0,1]],axis=0)\n",
    "    \n",
    "    mean3 = np.mean(X.loc[X['cluster']==3,[0,1]],axis=0)\n",
    "    \n",
    "    l = str(list(X['cluster']))\n",
    "    \n",
    "    if l == y:\n",
    "        break\n",
    "        \n",
    "    y = str(list(X['cluster']))\n",
    "    \n",
    "    i = i+1\n",
    "res['third_mean_after_conv'] = round(mean3,2)\n",
    "res['iterations'] = i\n",
    "#print(l)\n",
    "#print(y)\n",
    "#print(X)\n",
    "res.index = ['x','y']\n",
    "res = pd.DataFrame(res)\n",
    "print(res)"
   ]
  },
  {
   "cell_type": "code",
   "execution_count": 12,
   "metadata": {},
   "outputs": [
    {
     "data": {
      "image/png": "[encoded data removed]",
      "text/plain": [
       "<Figure size 432x288 with 1 Axes>"
      ]
     },
     "metadata": {},
     "output_type": "display_data"
    }
   ],
   "source": [
    "plt.scatter(X[0], X[1], label= \"stars\",color= \"black\", s=40) \n",
    "plt.scatter(mean1[0], mean1[1], c='red',s=60)\n",
    "plt.scatter(mean2[0],mean2[1],c='green',s=60)\n",
    "plt.scatter(mean3[0], mean3[1], c='blue',s=60)\n",
    "plt.xlabel('x - axis') \n",
    "plt.ylabel('y - axis') \n",
    " \n",
    "plt.title('Points on Plane!') \n",
    "  \n",
    "# function to show the plot \n",
    "plt.show()"
   ]
  },
  {
   "cell_type": "code",
   "execution_count": null,
   "metadata": {},
   "outputs": [],
   "source": []
  }
 ],
 "metadata": {
  "kernelspec": {
   "display_name": "Python 3",
   "language": "python",
   "name": "python3"
  },
  "language_info": {
   "codemirror_mode": {
    "name": "ipython",
    "version": 3
   },
   "file_extension": ".py",
   "mimetype": "text/x-python",
   "name": "python",
   "nbconvert_exporter": "python",
   "pygments_lexer": "ipython3",
   "version": "3.6.5"
  }
 },
 "nbformat": 4,
 "nbformat_minor": 2
}
